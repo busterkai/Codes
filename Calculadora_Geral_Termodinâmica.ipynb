{
 "cells": [
  {
   "cell_type": "code",
   "execution_count": 2,
   "id": "41ece966-ff3f-42a6-8458-6ed8ad46403e",
   "metadata": {
    "tags": []
   },
   "outputs": [
    {
     "ename": "ModuleNotFoundError",
     "evalue": "No module named 'streamlit'",
     "output_type": "error",
     "traceback": [
      "\u001b[1;31m---------------------------------------------------------------------------\u001b[0m",
      "\u001b[1;31mModuleNotFoundError\u001b[0m                       Traceback (most recent call last)",
      "Cell \u001b[1;32mIn[2], line 4\u001b[0m\n\u001b[0;32m      1\u001b[0m \u001b[38;5;66;03m#Calculadora Geral p/ Termodinâmica\u001b[39;00m\n\u001b[0;32m      2\u001b[0m \u001b[38;5;66;03m#Emmanuel Sousa Lodron\u001b[39;00m\n\u001b[1;32m----> 4\u001b[0m \u001b[38;5;28;01mimport\u001b[39;00m \u001b[38;5;21;01mstreamlit\u001b[39;00m \u001b[38;5;28;01mas\u001b[39;00m \u001b[38;5;21;01mst\u001b[39;00m\n\u001b[0;32m      5\u001b[0m \u001b[38;5;28;01mimport\u001b[39;00m \u001b[38;5;21;01mtime\u001b[39;00m\n\u001b[0;32m      6\u001b[0m \u001b[38;5;28;01mfrom\u001b[39;00m \u001b[38;5;21;01mPIL\u001b[39;00m \u001b[38;5;28;01mimport\u001b[39;00m Image\n",
      "\u001b[1;31mModuleNotFoundError\u001b[0m: No module named 'streamlit'"
     ]
    }
   ],
   "source": [
    "#Calculadora Geral p/ Termodinâmica\n",
    "#Emmanuel Sousa Lodron\n",
    "\n",
    "import streamlit as st\n",
    "import time\n",
    "from PIL import Image\n",
    "import numpy as np"
   ]
  },
  {
   "cell_type": "code",
   "execution_count": null,
   "id": "c3227427-1fdf-4b99-84d2-59ad527e82c1",
   "metadata": {},
   "outputs": [],
   "source": [
    "def interpolacao(valor_possuido,valor_anterior1,valor_posterior1,valor_anterior2,valor_posterior2):\n",
    "    valor_interpolado = (((valor_possuido-valor_anterior1)/(valor_posterior1-valor_anterior1))*(valor_posterior2-valor_anterior2))+valor_anterior2\n",
    "    return(round(valor_interpolado,8))\n",
    "\n",
    "def calc_tit(V_possuido, Vliq, Vvap):\n",
    "    titulo = (V_possuido - Vliq) / (Vvap - Vliq)\n",
    "    return(round(titulo,8))  \n",
    "\n",
    "def calc_especific(x,pl,pv):\n",
    "    p = (1-x)*pl + x*pv\n",
    "    return(round(p,8))"
   ]
  },
  {
   "cell_type": "code",
   "execution_count": 1,
   "id": "27dfe40b-5562-4e73-b57a-dca14abab4ec",
   "metadata": {
    "tags": []
   },
   "outputs": [
    {
     "ename": "NameError",
     "evalue": "name 'st' is not defined",
     "output_type": "error",
     "traceback": [
      "\u001b[1;31m---------------------------------------------------------------------------\u001b[0m",
      "\u001b[1;31mNameError\u001b[0m                                 Traceback (most recent call last)",
      "Cell \u001b[1;32mIn[1], line 1\u001b[0m\n\u001b[1;32m----> 1\u001b[0m st\u001b[38;5;241m.\u001b[39mtitle(\u001b[38;5;124m'\u001b[39m\u001b[38;5;124mCalculadora Geral para Termodinâmica\u001b[39m\u001b[38;5;124m'\u001b[39m)\n\u001b[0;32m      2\u001b[0m st\u001b[38;5;241m.\u001b[39msidebar\u001b[38;5;241m.\u001b[39mtitle(\u001b[38;5;124m'\u001b[39m\u001b[38;5;124mProgramas\u001b[39m\u001b[38;5;124m'\u001b[39m)\n\u001b[0;32m      3\u001b[0m programa_selecionado \u001b[38;5;241m=\u001b[39m st\u001b[38;5;241m.\u001b[39msidebar\u001b[38;5;241m.\u001b[39mselectbox(\u001b[38;5;124m'\u001b[39m\u001b[38;5;124mQual programa você quer utilizar?\u001b[39m\u001b[38;5;124m'\u001b[39m, [\u001b[38;5;124m'\u001b[39m\u001b[38;5;124mMenu\u001b[39m\u001b[38;5;124m'\u001b[39m,\u001b[38;5;124m'\u001b[39m\u001b[38;5;124mInterpolador\u001b[39m\u001b[38;5;124m'\u001b[39m,\u001b[38;5;124m'\u001b[39m\u001b[38;5;124mCalculadora de Título\u001b[39m\u001b[38;5;124m'\u001b[39m,\u001b[38;5;124m'\u001b[39m\u001b[38;5;124mCalculadora de Propriedades Específicas\u001b[39m\u001b[38;5;124m'\u001b[39m])\n",
      "\u001b[1;31mNameError\u001b[0m: name 'st' is not defined"
     ]
    }
   ],
   "source": [
    "st.title('Calculadora Geral para Termodinâmica')\n",
    "st.sidebar.title('Programas')\n",
    "programa_selecionado = st.sidebar.selectbox('Qual programa você quer utilizar?', ['Menu','Interpolador','Calculadora de Título','Calculadora de Propriedades Específicas'])\n",
    "\n",
    "if programa_selecionado == 'Menu':\n",
    "   st.image(image = 'https://www.coladaweb.com/wp-content/uploads/2014/12/termodinamica2.jpg')\n",
    "\n",
    "elif programa_selecionado == 'Interpolador':\n",
    "    try:\n",
    "        n=0\n",
    "        st.title('Insira os dados para realizar a Interpolação')\n",
    "        V = st.number_input('Qual o valor possuído? (X3)')\n",
    "        st.write('O valor possuído (X3) é: ', V)\n",
    "        va1 = st.number_input('Qual o valor anterior ao possuído? (X1)')\n",
    "        st.write('O valor anterior ao possuído (X1) é: ', va1)\n",
    "        vp1 = st.number_input('Qual o valor posterior ao possuído? (X2)')\n",
    "        st.write('O valor posterior ao possuído (X2) é:',vp1)\n",
    "        va2 = st.number_input('Qual o valor referente ao anterior para o qual se deseja obter a interpolação? (Y1)')\n",
    "        st.write('O valor referente ao anterior para o qual se deseja obter a interpolação ((Y1)) é:',va2)\n",
    "        vp2 = st.number_input('Qual o valor referente ao posterior para o qual se deseja obter a interpolação? (Y2)')\n",
    "        st.write('O valor referente ao posterior para o qual se deseja obter a interpolação (Y2) é:',vp2)\n",
    "        interpolacao(V,va1,vp1,va2,vp2)\n",
    "    except ZeroDivisionError:\n",
    "        st.write('Aguardando valores...')          \n",
    "    else:   \n",
    "        st.write('O valor interpolado (Y3) é:',interpolacao(V,va1,vp1,va2,vp2))\n",
    "                    \n",
    "elif programa_selecionado == 'Calculadora de Título':\n",
    "    try:\n",
    "        st.title('Insira os dados para Calcular o Título(x)')\n",
    "        V = st.number_input('Qual a propriedade específica possuída? (v/u/h/s)')\n",
    "        st.write('A propriedade específica é:', V)\n",
    "        vl = st.number_input('Qual a propriedade específica de líquido? (vl/ul/hl/sl)')\n",
    "        st.write('A propriedade específica de líquido é:', vl)\n",
    "        vv = st.number_input('Qual propriedade específica de vapor? (vv/uv/hv/sv)')\n",
    "        st.write('A propriedade específica de vapor é:', vv)\n",
    "        calc_tit(V,vl,vv)\n",
    "    except ZeroDivisionError:\n",
    "           st.write('Aguardando valores...')\n",
    "    else:\n",
    "        st.write('Seu título (x) é:',calc_tit(V,vl,vv))\n",
    "    \n",
    "\n",
    "elif programa_selecionado == 'Calculadora de Propriedades Específicas' :\n",
    "    st.title('Insira os dados para calcular a Propriedade Específica desejada')\n",
    "    x = st.number_input('Qual o título? (x)',min_value = 0.00000, max_value = 1.0)\n",
    "    st.write('O título (x) é: ', x)\n",
    "    pl = st.number_input('Qual a propriedade específica de líquido? (vl/ul/hl/sl)')\n",
    "    st.write('A propriedade específica de líquido é:', pl)\n",
    "    pv = st.number_input('Qual a propriedade específica de vapor? (vv/uv/hv/sv)')\n",
    "    st.write('A propriedade específica de vapor é: ', pv)\n",
    "    st.write('Sua propriedade específica é:',calc_especific(x,pl,pv))\n"
   ]
  },
  {
   "cell_type": "code",
   "execution_count": null,
   "id": "41735602-b5e3-4ac0-b331-3141cbcf92c1",
   "metadata": {},
   "outputs": [],
   "source": []
  }
 ],
 "metadata": {
  "kernelspec": {
   "display_name": "Python 3 (ipykernel)",
   "language": "python",
   "name": "python3"
  },
  "language_info": {
   "codemirror_mode": {
    "name": "ipython",
    "version": 3
   },
   "file_extension": ".py",
   "mimetype": "text/x-python",
   "name": "python",
   "nbconvert_exporter": "python",
   "pygments_lexer": "ipython3",
   "version": "3.11.3"
  }
 },
 "nbformat": 4,
 "nbformat_minor": 5
}
